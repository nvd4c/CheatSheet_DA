{
 "cells": [
  {
   "cell_type": "markdown",
   "metadata": {},
   "source": [
    "# NumPy"
   ]
  },
  {
   "cell_type": "markdown",
   "metadata": {},
   "source": [
    "#Thư viện NumPy là thư viện cốt lõi cho tính toán khoa học bằng Python. Nó cung cấp một đối tượng mảng đa chiều hiệu suất cao và các công cụ để làm việc với các mảng này."
   ]
  },
  {
   "cell_type": "code",
   "execution_count": 1,
   "metadata": {},
   "outputs": [],
   "source": [
    "import numpy as np"
   ]
  },
  {
   "cell_type": "markdown",
   "metadata": {},
   "source": [
    "# 1. Creating Arrays"
   ]
  },
  {
   "cell_type": "code",
   "execution_count": 2,
   "metadata": {},
   "outputs": [],
   "source": [
    "a = np.array([1,2,3])\n",
    "b = np.array([(1.5,2,3), (4,5,6)], dtype = float)\n",
    "c = np.array([[(1.5,2,3), (4,5,6)], [(3,2,1), (4,5,6)]], dtype = float)"
   ]
  },
  {
   "cell_type": "markdown",
   "metadata": {},
   "source": [
    "# 2. Tạo chỗ ban đầu"
   ]
  },
  {
   "cell_type": "code",
   "execution_count": 3,
   "metadata": {},
   "outputs": [
    {
     "name": "stdout",
     "output_type": "stream",
     "text": [
      "ma tran a: \n",
      "[[0. 0. 0. 0.]\n",
      " [0. 0. 0. 0.]\n",
      " [0. 0. 0. 0.]]\n",
      "ma tran b:\n",
      "[[[1 1 1 1]\n",
      "  [1 1 1 1]\n",
      "  [1 1 1 1]]\n",
      "\n",
      " [[1 1 1 1]\n",
      "  [1 1 1 1]\n",
      "  [1 1 1 1]]]\n",
      "ma tran c:\n",
      "[10 15 20 25]\n",
      "ma tran d:\n",
      "[0.   1.25 2.5  3.75 5.  ]\n",
      "ma tran e:\n",
      "[[7 7 7]\n",
      " [7 7 7]]\n",
      "ma tran f:\n",
      "[[1. 0.]\n",
      " [0. 1.]]\n",
      "ma tran g1:\n",
      "[[0.60424231 0.00158256]\n",
      " [0.93952022 0.27105822]]\n",
      "ma tran h:\n",
      "[[5.e-324 5.e-324]\n",
      " [5.e-324 0.e+000]\n",
      " [0.e+000 0.e+000]]\n"
     ]
    }
   ],
   "source": [
    "a1 = np.zeros((3,4))                                 #Tạo một mảng các số không 3 hang 4 cot\n",
    "print(\"ma tran a: \")\n",
    "print(a1)\n",
    "b1 = np.ones((2,3,4),dtype=np.int16)                 #2 ma trận các số 1 gồm 3 hang 4 cot\n",
    "print(\"ma tran b:\")\n",
    "print(b1)\n",
    "c = np.arange(10,30,5)                          #Tạo một mảng các giá trị cách đều nhau 5 bắt đầu từ 10 và kết thúc ở 25\n",
    "print(\"ma tran c:\")\n",
    "print(c)\n",
    "d = np.linspace(0,5,5)                             #Tạo một mảng các giá trị cách đều nhau (số lượng mẫu)\n",
    "print(\"ma tran d:\")\n",
    "print(d)\n",
    "e = np.full((2,3),7)                            #Tạo một mảng các số 7 gồm 2 hàng và 3 cột \n",
    "print(\"ma tran e:\")\n",
    "print(e)\n",
    "f = np.eye(2)                                   #ma trận vuông 2 có các đường chéo = 1(ma trận đơn vị)\n",
    "print(\"ma tran f:\")\n",
    "print(f)\n",
    "g1 = np.random.random((2,2))                         #Create an array with random values\n",
    "print(\"ma tran g1:\")\n",
    "print(g1)\n",
    "h = np.empty((3,2))                                 #Create an empty array\n",
    "print(\"ma tran h:\")\n",
    "print(h)"
   ]
  },
  {
   "cell_type": "markdown",
   "metadata": {},
   "source": [
    "# 3. I/O"
   ]
  },
  {
   "cell_type": "markdown",
   "metadata": {},
   "source": [
    "# 3.1 Saving & Loading On Disk"
   ]
  },
  {
   "cell_type": "code",
   "execution_count": 4,
   "metadata": {},
   "outputs": [
    {
     "data": {
      "text/plain": [
       "array([1, 2, 3])"
      ]
     },
     "execution_count": 4,
     "metadata": {},
     "output_type": "execute_result"
    }
   ],
   "source": [
    "np.save('my_array', a)\n",
    "np.savez('array.npz', a, b)\n",
    "np.load('my_array.npy')"
   ]
  },
  {
   "cell_type": "markdown",
   "metadata": {},
   "source": [
    "# 3.2 Lưu và load tệp văn bản"
   ]
  },
  {
   "cell_type": "code",
   "execution_count": 5,
   "metadata": {},
   "outputs": [
    {
     "data": {
      "text/plain": [
       "array([[1., 1., 1.],\n",
       "       [2., 2., 2.],\n",
       "       [3., 3., 3.]])"
      ]
     },
     "execution_count": 5,
     "metadata": {},
     "output_type": "execute_result"
    }
   ],
   "source": [
    "#print(\"ma tran co san trong file txt:\")\n",
    "#np.loadtxt(\"myfile.txt\")\n",
    "np.genfromtxt(\"data.csv\", delimiter=',')\n",
    "#np.savetxt(\"myarray.txt\", a, delimiter=\" \")"
   ]
  },
  {
   "cell_type": "markdown",
   "metadata": {},
   "source": [
    "# 4. Data Types"
   ]
  },
  {
   "cell_type": "code",
   "execution_count": 6,
   "metadata": {},
   "outputs": [
    {
     "data": {
      "text/plain": [
       "False"
      ]
     },
     "execution_count": 6,
     "metadata": {},
     "output_type": "execute_result"
    }
   ],
   "source": [
    "np.int64              #Các loại số nguyên 64 bit\n",
    "np.float32            #Standard double-precision floating point\n",
    "np.complex            #Số phức được đại diện bởi 128 float\n",
    "np.bool               #Kiểu boolean lưu trữ các giá trị TRUE và FALSE\n",
    "np.object             #kiểu object\n",
    "np.string_            #Loại chuỗi có độ dài cố định\n",
    "np.unicode_           #Loại unicode có độ dài cố định\n",
    "x = np.bool(0)\n",
    "x"
   ]
  },
  {
   "cell_type": "markdown",
   "metadata": {},
   "source": [
    "# 5. Kiểm tra mảng"
   ]
  },
  {
   "cell_type": "code",
   "execution_count": 86,
   "metadata": {},
   "outputs": [
    {
     "data": {
      "text/plain": [
       "array([[1, 2, 3],\n",
       "       [4, 5, 6]])"
      ]
     },
     "execution_count": 86,
     "metadata": {},
     "output_type": "execute_result"
    }
   ],
   "source": [
    "a.shape                              #Kích thước mảng\n",
    "len(a)                               #Chiều dài của mảng \n",
    "b.ndim                               #Số kích thước mảng \n",
    "e.size                               #Số phần tử mảng\n",
    "b.dtype                              #Kiểu dữ liệu của các phần tử mảng\n",
    "b.dtype.name                         #Tên kiểu dữ liệu \n",
    "b.astype(int)                        #Chuyển một mảng sang một kiểu khác"
   ]
  },
  {
   "cell_type": "markdown",
   "metadata": {},
   "source": [
    "# 6. Asking For Help"
   ]
  },
  {
   "cell_type": "code",
   "execution_count": null,
   "metadata": {},
   "outputs": [],
   "source": [
    "np.info(np.ndarray.dtype)"
   ]
  },
  {
   "cell_type": "markdown",
   "metadata": {},
   "source": [
    "# 7. Array Mathematics"
   ]
  },
  {
   "cell_type": "markdown",
   "metadata": {},
   "source": [
    "# 7.1 Các phép tính"
   ]
  },
  {
   "cell_type": "code",
   "execution_count": 88,
   "metadata": {},
   "outputs": [
    {
     "data": {
      "text/plain": [
       "array([0.        , 0.69314718, 1.09861229])"
      ]
     },
     "execution_count": 88,
     "metadata": {},
     "output_type": "execute_result"
    }
   ],
   "source": [
    "g = a - b                                                      #Phép trừ\n",
    "#array([[-0.5, 0. , 0. ], [-3. , -3. , -3. ]])\n",
    "np.subtract(a,b)                                               #Phép trừ\n",
    "\n",
    "b + a                                                          #cộng\n",
    "#array([[ 2.5, 4. , 6. ], [ 5. , 7. , 9. ]])\n",
    "np.add(b,a)                                                     #cộng\n",
    "\n",
    "a / b                                                        #chia\n",
    "#array([[ 0.66666667, 1. , 1. ], [ 0.25 , 0.4 , 0.5 ]])\n",
    "np.divide(a,b)                                             #chia\n",
    "\n",
    "a * b                                                    #nhân\n",
    "#array([[ 1.5, 4. , 9. ],[ 4. , 10. , 18. ]])\n",
    "np.multiply(a,b)                              #nhân\n",
    "\n",
    "np.exp(b)                                     #e mũ\n",
    "np.sqrt(b)                                    #căn bậc 2\n",
    "np.sin(a)                                     #các sin của 1 mảng\n",
    "np.cos(b)                                     #cosin \n",
    "np.log(a)                                    #logarit \n",
    "#e.dot(f)                                       #chấm\n",
    "#array([[ 7., 7.],[ 7., 7.]]"
   ]
  },
  {
   "cell_type": "markdown",
   "metadata": {},
   "source": [
    "# 7.2 So sánh"
   ]
  },
  {
   "cell_type": "code",
   "execution_count": 92,
   "metadata": {},
   "outputs": [
    {
     "data": {
      "text/plain": [
       "array([[False,  True,  True],\n",
       "       [False, False, False]])"
      ]
     },
     "execution_count": 92,
     "metadata": {},
     "output_type": "execute_result"
    }
   ],
   "source": [
    "a == b                                                             #So sánh theo yếu tố\n",
    "#array([[False, True, True], [False, False, False]], dtype=bool)\n"
   ]
  },
  {
   "cell_type": "code",
   "execution_count": 93,
   "metadata": {},
   "outputs": [
    {
     "data": {
      "text/plain": [
       "array([ True, False, False])"
      ]
     },
     "execution_count": 93,
     "metadata": {},
     "output_type": "execute_result"
    }
   ],
   "source": [
    "a < 2                                                                #so sánh theo yếu tố\n",
    "#array([True, False, False], dtype=bool)"
   ]
  },
  {
   "cell_type": "code",
   "execution_count": 94,
   "metadata": {},
   "outputs": [
    {
     "data": {
      "text/plain": [
       "False"
      ]
     },
     "execution_count": 94,
     "metadata": {},
     "output_type": "execute_result"
    }
   ],
   "source": [
    "np.array_equal(a, b)                                               #so sánh theo mảng"
   ]
  },
  {
   "cell_type": "markdown",
   "metadata": {},
   "source": [
    "# 7.3 Chức năng tổng hợp"
   ]
  },
  {
   "cell_type": "code",
   "execution_count": 106,
   "metadata": {},
   "outputs": [
    {
     "name": "stdout",
     "output_type": "stream",
     "text": [
      "[[ 1.5  3.5  6.5]\n",
      " [ 4.   9.  15. ]]\n",
      "2.0\n",
      "1.5920810978785667\n"
     ]
    }
   ],
   "source": [
    "a.sum()                      #Tổng của mảng\n",
    "a.min()                      #Giá trị tối thiểu của mảng\n",
    "b.max(axis=0)                 #Giá trị lớn nhất của một hàng mảng\n",
    "print(b.cumsum(axis=1))               #Tổng tích lũy của các phần tử\n",
    "print(a.mean())                         #Mean: giá trị trung bình\n",
    "#b.median() #Median\n",
    "#a.corrcoef() #Hệ số tương quan\n",
    "print(np.std(b)) #Độ lệch chuẩn"
   ]
  },
  {
   "cell_type": "markdown",
   "metadata": {},
   "source": [
    "# 8. Sao chép mảng"
   ]
  },
  {
   "cell_type": "code",
   "execution_count": null,
   "metadata": {},
   "outputs": [],
   "source": [
    "h = a.view() #Tạo 1 view của mảng với cùng một dữ liệu\n",
    "np.copy(a)   #Tạo một bản sao của mảng\n",
    "h = a.copy() #tạo 1 deep copy"
   ]
  },
  {
   "cell_type": "markdown",
   "metadata": {},
   "source": [
    "# 9. Sắp xếp mảng"
   ]
  },
  {
   "cell_type": "code",
   "execution_count": null,
   "metadata": {},
   "outputs": [],
   "source": [
    "a.sort()          #Sort an array\n",
    "c.sort(axis=0)    #Sắp xếp các phần tử của trục của mảng"
   ]
  },
  {
   "cell_type": "markdown",
   "metadata": {},
   "source": [
    "# 10. Tập hợp con, cắt lát và chỉ mục"
   ]
  },
  {
   "cell_type": "code",
   "execution_count": 108,
   "metadata": {},
   "outputs": [
    {
     "data": {
      "text/plain": [
       "array([[4. , 5. , 6. , 4. ],\n",
       "       [1.5, 2. , 3. , 1.5],\n",
       "       [4. , 5. , 6. , 4. ],\n",
       "       [1.5, 2. , 3. , 1.5]])"
      ]
     },
     "execution_count": 108,
     "metadata": {},
     "output_type": "execute_result"
    }
   ],
   "source": [
    "a = np.array([1,2,3])\n",
    "b = np.array([(1.5,2,3), (4,5,6)], dtype = float)\n",
    "c = np.array([[(1.5,2,3), (4,5,6)], [(3,2,1), (4,5,6)]], dtype = float)\n",
    "\n",
    "\n",
    "#Tập hợp con\n",
    "a[2]            #Chọn phần tử ở chỉ mục thứ 2\n",
    "#3\n",
    "b[1,2]          #Chọn phần tử ở hàng 2 cột 1, (tương đương với b [1] [2])\n",
    "#6.0\n",
    "\n",
    "#Cắt lát\n",
    "a[0:2]              #Chọn các mục ở chỉ mục 0 và 1\n",
    "#array([1, 2])\n",
    "\n",
    "b[0:2,1]         #Chọn các mục ở hàng 0 và 1 trong cột 1\n",
    "#array([ 2., 5.]) \n",
    "\n",
    "b[:1]                  #Chọn tất cả các mục ở hàng 0, tương đương với b[0:1, :])\n",
    "#array([[1.5, 2., 3.]]) \n",
    "\n",
    "c[1,...]           #same [1,:,:]\n",
    "#array([[[ 3., 2., 1.], [ 4., 5., 6.]]])\n",
    "\n",
    "a[ : :-1]          #đảo ngược mảng a \n",
    "#array([3, 2, 1])\n",
    "\n",
    "#Lập chỉ mục Boolean\n",
    "a[a<2]              #Chọn phần tử từ ít hơn 2\n",
    "#array([1])\n",
    "\n",
    "#Fancy Indexing\n",
    "b[[1, 0, 1, 0],[0, 1, 2, 0]] #Select elements (1,0),(0,1),(1,2) and (0,0)\n",
    "#array([ 4. , 2. , 6. , 1.5])\n",
    "\n",
    "b[[1, 0, 1, 0]][:,[0,1,2,0]]  #Chọn một tập hợp con các hàng và cột của ma trận\n",
    "#array([[ 4. ,5. , 6. , 4. ], [ 1.5, 2. , 3. , 1.5],[ 4. , 5. , 6. , 4. ],[ 1.5, 2. , 3. , 1.5]])\n"
   ]
  },
  {
   "cell_type": "markdown",
   "metadata": {},
   "source": [
    "# 11. Thao tác mảng"
   ]
  },
  {
   "cell_type": "markdown",
   "metadata": {},
   "source": [
    "# 11.1 Hoán vị mảng"
   ]
  },
  {
   "cell_type": "code",
   "execution_count": null,
   "metadata": {},
   "outputs": [],
   "source": [
    "i = np.transpose(b)          #hoán vị mảng\n",
    "i.T                          #hoán vị mảng"
   ]
  },
  {
   "cell_type": "markdown",
   "metadata": {},
   "source": [
    "# 11.2 Thay đổi hình dạng mảng"
   ]
  },
  {
   "cell_type": "code",
   "execution_count": 112,
   "metadata": {},
   "outputs": [
    {
     "name": "stdout",
     "output_type": "stream",
     "text": [
      "[1.5 2.  3.  4.  5.  6. ]\n",
      "[[1.5 2. ]\n",
      " [3.  4. ]\n",
      " [5.  6. ]]\n"
     ]
    }
   ],
   "source": [
    "print(b.ravel())                   #làm phẳng mảng\n",
    "print(b.reshape(3,-2))             #Định hình lại, nhưng không thay đổi dữ liệu"
   ]
  },
  {
   "cell_type": "markdown",
   "metadata": {},
   "source": [
    "# 11.3 Thêm/loại bỏ các phần tử"
   ]
  },
  {
   "cell_type": "code",
   "execution_count": 113,
   "metadata": {},
   "outputs": [
    {
     "data": {
      "text/plain": [
       "array([1, 3])"
      ]
     },
     "execution_count": 113,
     "metadata": {},
     "output_type": "execute_result"
    }
   ],
   "source": [
    "h.resize((2,6))            #Trả về một mảng mới có hình dạng (2,6)\n",
    "np.append(h,g)             #Nối các mục vào một mảng\n",
    "np.insert(a, 1, 5)          #Chèn các mục trong một mảng\n",
    "np.delete(a,[1])           #Xóa các mục khỏi một mảng"
   ]
  },
  {
   "cell_type": "markdown",
   "metadata": {},
   "source": [
    "# 11.4 Kết hợp các mảng"
   ]
  },
  {
   "cell_type": "code",
   "execution_count": null,
   "metadata": {},
   "outputs": [],
   "source": [
    "np.concatenate((a,d),axis=0)                                      #Nối các mảng\n",
    " #array([ 1, 2, 3, 10, 15, 20])\n",
    "np.vstack((a,b))                                                 #Xếp các mảng theo chiều dọc (theo hàng)\n",
    "#array([[ 1. , 2. , 3. ], [ 1.5, 2. , 3. ], [ 4. , 5. , 6. ]])\n",
    "np.r_[e,f]                                                      #Xếp các mảng theo chiều dọc (theo hàng)\n",
    "np.hstack((e,f))                                               #Xếp chồng các mảng theo chiều ngang (theo cột)\n",
    "#array([[ 7., 7., 1., 0.], [ 7., 7., 0., 1.]])\n",
    "np.column_stack((a,d))                                          #Tạo mảng theo cột xếp chồng lên nhau\n",
    " #array([[ 1, 10], [ 2, 15], [ 3, 20]])\n",
    ">>> np.c_[a,d]                                                   #Tạo mảng theo cột xếp chồng lên nhau"
   ]
  },
  {
   "cell_type": "markdown",
   "metadata": {},
   "source": [
    "# 11.5 Tách mảng"
   ]
  },
  {
   "cell_type": "code",
   "execution_count": null,
   "metadata": {},
   "outputs": [],
   "source": [
    "np.hsplit(a,3)               #Tách mảng theo chiều ngang ở chỉ mục thứ 3\n",
    "#[array([1]),array([2]),array([3])] \n",
    "np.vsplit(c,2)                   #Tách mảng theo chiều dọc ở chỉ mục thứ 2\n",
    "#[array([[[ 1.5, 2. , 1. ],[ 4. , 5. , 6. ]]]), \n",
    "#array([[[ 3., 2., 3.], [ 4., 5., 6.]]])]"
   ]
  }
 ],
 "metadata": {
  "kernelspec": {
   "display_name": "Python 3",
   "language": "python",
   "name": "python3"
  },
  "language_info": {
   "codemirror_mode": {
    "name": "ipython",
    "version": 3
   },
   "file_extension": ".py",
   "mimetype": "text/x-python",
   "name": "python",
   "nbconvert_exporter": "python",
   "pygments_lexer": "ipython3",
   "version": "3.8.5"
  }
 },
 "nbformat": 4,
 "nbformat_minor": 4
}
